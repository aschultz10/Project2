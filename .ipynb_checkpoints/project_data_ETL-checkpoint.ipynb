{
 "cells": [
  {
   "cell_type": "markdown",
   "metadata": {},
   "source": [
    "### Project 2 Data ETL"
   ]
  },
  {
   "cell_type": "markdown",
   "metadata": {},
   "source": [
    "This Notebook extracts data about Countries from our HRMI excel book and loads into a Mongodb collection.\n",
    "1 - Reads the excel workbook into a pandas dataframe\n",
    "2 - Loops through each sheet and creates a pandas dataframe from each sheet. Stores in a python dictionary\n",
    "3 - Merge all the dictionaries into one dictioanry, thereby combining theCountries data\n",
    "4 - Cleans up the data by renaming colmns that do not meet dictionary data types\n",
    "5 - Creates a dataframe from each worksheet\n",
    "2 - Loads into 'countries' collection in Mongo database"
   ]
  },
  {
   "cell_type": "code",
   "execution_count": 4,
   "metadata": {},
   "outputs": [],
   "source": [
    "data_source = \"data/\""
   ]
  },
  {
   "cell_type": "code",
   "execution_count": 5,
   "metadata": {},
   "outputs": [],
   "source": [
    "import pandas as pd"
   ]
  },
  {
   "cell_type": "markdown",
   "metadata": {},
   "source": [
    "### read worksheet into pandas"
   ]
  },
  {
   "cell_type": "code",
   "execution_count": 6,
   "metadata": {},
   "outputs": [],
   "source": [
    "sheets_dict = pd.read_excel(data_source+'HRMI_Website_DataSet_2020.6.22.xlsx', sheet_name=None)"
   ]
  },
  {
   "cell_type": "code",
   "execution_count": 7,
   "metadata": {},
   "outputs": [
    {
     "data": {
      "text/plain": [
       "['ESR_LMY_IncomeAdjusted',\n",
       " 'ESR_HiY_IncomeAdjusted',\n",
       " 'ESR_LMY_GlobalBest',\n",
       " 'ESR_HiY_GlobalBest',\n",
       " 'ESR_Sex_Disaggregated',\n",
       " 'ESR_PeopleAtRisk',\n",
       " 'CPR_Data']"
      ]
     },
     "execution_count": 7,
     "metadata": {},
     "output_type": "execute_result"
    }
   ],
   "source": [
    "list(sheets_dict.keys())"
   ]
  },
  {
   "cell_type": "markdown",
   "metadata": {},
   "source": [
    "### Loop through the worksheets and create a DataFrame and store in dictionary sheetsDF"
   ]
  },
  {
   "cell_type": "code",
   "execution_count": 11,
   "metadata": {},
   "outputs": [
    {
     "ename": "NameError",
     "evalue": "name 'sheetsList' is not defined",
     "output_type": "error",
     "traceback": [
      "\u001b[1;31m---------------------------------------------------------------------------\u001b[0m",
      "\u001b[1;31mNameError\u001b[0m                                 Traceback (most recent call last)",
      "\u001b[1;32m<ipython-input-11-057d30f3eefa>\u001b[0m in \u001b[0;36m<module>\u001b[1;34m\u001b[0m\n\u001b[0;32m      3\u001b[0m     \u001b[0mdata\u001b[0m \u001b[1;33m=\u001b[0m \u001b[0mi\u001b[0m\u001b[1;33m+\u001b[0m\u001b[1;34m'DF'\u001b[0m\u001b[1;33m\u001b[0m\u001b[1;33m\u001b[0m\u001b[0m\n\u001b[0;32m      4\u001b[0m     \u001b[0msheetsDF\u001b[0m\u001b[1;33m[\u001b[0m\u001b[0mdata\u001b[0m\u001b[1;33m]\u001b[0m \u001b[1;33m=\u001b[0m \u001b[0msheets_dict\u001b[0m\u001b[1;33m[\u001b[0m\u001b[0mi\u001b[0m\u001b[1;33m]\u001b[0m\u001b[1;33m\u001b[0m\u001b[1;33m\u001b[0m\u001b[0m\n\u001b[1;32m----> 5\u001b[1;33m     \u001b[0msheetsList\u001b[0m\u001b[1;33m.\u001b[0m\u001b[0mappend\u001b[0m\u001b[1;33m(\u001b[0m\u001b[0msheets_dict\u001b[0m\u001b[1;33m[\u001b[0m\u001b[0mi\u001b[0m\u001b[1;33m]\u001b[0m\u001b[1;33m)\u001b[0m\u001b[1;33m\u001b[0m\u001b[1;33m\u001b[0m\u001b[0m\n\u001b[0m",
      "\u001b[1;31mNameError\u001b[0m: name 'sheetsList' is not defined"
     ]
    }
   ],
   "source": [
    "sheetsDF = {}\n",
    "for i in list(sheets_dict.keys()):\n",
    "    data = i+'DF'\n",
    "    sheetsDF[data] = sheets_dict[i]\n",
    "    sheetsList.append(sheets_dict[i])"
   ]
  },
  {
   "cell_type": "markdown",
   "metadata": {},
   "source": [
    "### Merge the dictionaries and create one DataFrame"
   ]
  },
  {
   "cell_type": "code",
   "execution_count": 9,
   "metadata": {},
   "outputs": [
    {
     "ename": "KeyError",
     "evalue": "'ESR_HiY_IncomeAdjustedDF'",
     "output_type": "error",
     "traceback": [
      "\u001b[1;31m---------------------------------------------------------------------------\u001b[0m",
      "\u001b[1;31mKeyError\u001b[0m                                  Traceback (most recent call last)",
      "\u001b[1;32m<ipython-input-9-2b8a6a59f542>\u001b[0m in \u001b[0;36m<module>\u001b[1;34m\u001b[0m\n\u001b[1;32m----> 1\u001b[1;33m data = {**sheetsDF['ESR_LMY_IncomeAdjustedDF'], **sheetsDF['ESR_HiY_IncomeAdjustedDF'],**sheetsDF['ESR_LMY_GlobalBestDF'], \\\n\u001b[0m\u001b[0;32m      2\u001b[0m        **sheetsDF['ESR_HiY_GlobalBestDF'], **sheetsDF['ESR_Sex_DisaggregatedDF']}\n\u001b[0;32m      3\u001b[0m \u001b[1;33m\u001b[0m\u001b[0m\n\u001b[0;32m      4\u001b[0m \u001b[0mrecs\u001b[0m \u001b[1;33m=\u001b[0m \u001b[0mpd\u001b[0m\u001b[1;33m.\u001b[0m\u001b[0mDataFrame\u001b[0m\u001b[1;33m(\u001b[0m\u001b[0mdata\u001b[0m\u001b[1;33m)\u001b[0m\u001b[1;33m\u001b[0m\u001b[1;33m\u001b[0m\u001b[0m\n",
      "\u001b[1;31mKeyError\u001b[0m: 'ESR_HiY_IncomeAdjustedDF'"
     ]
    }
   ],
   "source": [
    "data = {**sheetsDF['ESR_LMY_IncomeAdjustedDF'], **sheetsDF['ESR_HiY_IncomeAdjustedDF'],**sheetsDF['ESR_LMY_GlobalBestDF'], \\\n",
    "       **sheetsDF['ESR_HiY_GlobalBestDF'], **sheetsDF['ESR_Sex_DisaggregatedDF']}\n",
    "\n",
    "recs = pd.DataFrame(data)"
   ]
  },
  {
   "cell_type": "code",
   "execution_count": 10,
   "metadata": {},
   "outputs": [
    {
     "ename": "NameError",
     "evalue": "name 'recs' is not defined",
     "output_type": "error",
     "traceback": [
      "\u001b[1;31m---------------------------------------------------------------------------\u001b[0m",
      "\u001b[1;31mNameError\u001b[0m                                 Traceback (most recent call last)",
      "\u001b[1;32m<ipython-input-10-bdf4de1d580b>\u001b[0m in \u001b[0;36m<module>\u001b[1;34m\u001b[0m\n\u001b[1;32m----> 1\u001b[1;33m \u001b[0mrecs\u001b[0m\u001b[1;33m.\u001b[0m\u001b[0mhead\u001b[0m\u001b[1;33m(\u001b[0m\u001b[1;36m3\u001b[0m\u001b[1;33m)\u001b[0m\u001b[1;33m\u001b[0m\u001b[1;33m\u001b[0m\u001b[0m\n\u001b[0m",
      "\u001b[1;31mNameError\u001b[0m: name 'recs' is not defined"
     ]
    }
   ],
   "source": [
    "recs.head(3)"
   ]
  },
  {
   "cell_type": "markdown",
   "metadata": {},
   "source": [
    "### Rename columns "
   ]
  },
  {
   "cell_type": "code",
   "execution_count": 262,
   "metadata": {},
   "outputs": [],
   "source": [
    "rename = {\n",
    "    'IncomeAdjusted_LMY_Right_to_Education_Score.1':'IncomeAdjusted_LMY_Right_to_Education_Score_1',\n",
    "    'IncomeAdjusted_LMY_Right_to_Health_Score.1': 'IncomeAdjusted_LMY_Right_to_Health_Score_1',\n",
    "    'IncomeAdjusted_LMY_Right_to_Housing_Score.1': 'IncomeAdjusted_LMY_Right_to_Housing_Score_1',\n",
    "    'IncomeAdjusted_LMY_Right_to_Food_Score.1': 'IncomeAdjusted_LMY_Right_to_Food_Score_1',\n",
    "    'IncomeAdjusted_LMY_Right_to_Work_Score.1': 'IncomeAdjusted_LMY_Right_to_Work_Score_1',\n",
    "\n",
    "    'IncomeAdjusted_HiY_Right_to_Education_Score.1': 'IncomeAdjusted_HiY_Right_to_Education_Score_1',\n",
    "    'IncomeAdjusted_HiY_Right_to_Health_Score.1': 'IncomeAdjusted_HiY_Right_to_Health_Score_1',\n",
    "    'IncomeAdjusted_HiY_Right_to_Housing_Score.1': 'IncomeAdjusted_HiY_Right_to_Housing_Score_1',\n",
    "    'IncomeAdjusted_HiY_Right_to_Food_Score.1': 'IncomeAdjusted_HiY_Right_to_Food_Score_1',\n",
    "    'IncomeAdjusted_HiY_Right_to_Work_Score.1': 'IncomeAdjusted_HiY_Right_to_Work_Score_1',\n",
    "    \n",
    "    'GlobalBest_LMY_Right_to_Education_Score.1': 'GlobalBest_LMY_Right_to_Education_Score_1',\n",
    "    'GlobalBest_LMY_Right_to_Health_Score.1': 'GlobalBest_LMY_Right_to_Health_Score_1',\n",
    "    'GlobalBest_LMY_Right_to_Housing_Score.1': 'GlobalBest_LMY_Right_to_Housing_Score_1',\n",
    "    'GlobalBest_LMY_Right_to_Food_Score.1': 'GlobalBest_LMY_Right_to_Food_Score_1',\n",
    "    'GlobalBest_LMY_Right_to_Work_Score.1': 'GlobalBest_LMY_Right_to_Work_Score_1',\n",
    "    'Most_Recent_Observation_%_Population_Not_Absolutely_Poor_(>$3.20_2011PPP$)': 'Most_Recent_Observation_%_Population_Not_Absolutely_Poor_(>$3_20_2011PPP$)',\n",
    "    'Year_of_Most_Recent_Observation_on_%_Population_Not_Absolutely_Poor_(>$3.20_2011PPP$)': 'Year_of_Most_Recent_Observation_on_%_Population_Not_Absolutely_Poor_(>$3_20_2011PPP$)',\n",
    "    'GlobalBest_HiY_Right_to_Education_Score.1': 'GlobalBest_HiY_Right_to_Education_Score_1',\n",
    "    'GlobalBest_HiY_Right_to_Health_Score.1': 'GlobalBest_HiY_Right_to_Health_Score_1',\n",
    "    'GlobalBest_HiY_Right_to_Housing_Score.1': 'GlobalBest_HiY_Right_to_Housing_Score_1',\n",
    "    'GlobalBest_HiY_Right_to_Food_Score.1': 'GlobalBest_HiY_Right_to_Food_Score_1',\n",
    "    'GlobalBest_HiY_Right_to_Work_Score.1': 'GlobalBest_HiY_Right_to_Work_Score_1'\n",
    "}\n",
    "\n",
    "recs.rename(columns=rename, inplace=True)"
   ]
  },
  {
   "cell_type": "markdown",
   "metadata": {},
   "source": [
    "### Connect to pyMongo and insert data into database"
   ]
  },
  {
   "cell_type": "code",
   "execution_count": 141,
   "metadata": {},
   "outputs": [],
   "source": [
    "import pymongo"
   ]
  },
  {
   "cell_type": "code",
   "execution_count": 142,
   "metadata": {},
   "outputs": [],
   "source": [
    "conn = 'mongodb://localhost:27017'"
   ]
  },
  {
   "cell_type": "code",
   "execution_count": 207,
   "metadata": {},
   "outputs": [],
   "source": [
    "client = pymongo.MongoClient(conn)"
   ]
  },
  {
   "cell_type": "code",
   "execution_count": 264,
   "metadata": {},
   "outputs": [],
   "source": [
    "db = client.country_db"
   ]
  },
  {
   "cell_type": "code",
   "execution_count": 267,
   "metadata": {},
   "outputs": [
    {
     "data": {
      "text/plain": [
       "<pymongo.results.InsertManyResult at 0x7f97494225f0>"
      ]
     },
     "execution_count": 267,
     "metadata": {},
     "output_type": "execute_result"
    }
   ],
   "source": [
    "db.countries.insert_many(recs.to_dict('records'))"
   ]
  },
  {
   "cell_type": "code",
   "execution_count": null,
   "metadata": {},
   "outputs": [],
   "source": []
  }
 ],
 "metadata": {
  "kernelspec": {
   "display_name": "Python 3",
   "language": "python",
   "name": "python3"
  },
  "language_info": {
   "codemirror_mode": {
    "name": "ipython",
    "version": 3
   },
   "file_extension": ".py",
   "mimetype": "text/x-python",
   "name": "python",
   "nbconvert_exporter": "python",
   "pygments_lexer": "ipython3",
   "version": "3.7.9"
  }
 },
 "nbformat": 4,
 "nbformat_minor": 4
}
