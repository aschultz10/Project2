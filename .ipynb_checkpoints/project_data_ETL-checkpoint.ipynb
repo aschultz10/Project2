{
 "cells": [
  {
   "cell_type": "markdown",
   "metadata": {},
   "source": [
    "### Project 2 Data ETL"
   ]
  },
  {
   "cell_type": "markdown",
   "metadata": {},
   "source": [
    "This Notebook extracts data about Countries from our HRMI excel book and loads into a Mongodb collection.\n",
    "1 - Reads the excel workbook into a pandas dataframe\n",
    "2 - Loops through each sheet and creates a pandas dataframe from each sheet. Stores in a python dictionary\n",
    "3 - Merge all the dictionaries into one dictioanry, thereby combining theCountries data\n",
    "4 - Cleans up the data by renaming colmns that do not meet dictionary data types\n",
    "5 - Creates a dataframe from each worksheet\n",
    "2 - Loads into 'countries' collection in Mongo database"
   ]
  },
  {
   "cell_type": "code",
   "execution_count": 1,
   "metadata": {},
   "outputs": [],
   "source": [
    "data_source = \"data/\""
   ]
  },
  {
   "cell_type": "code",
   "execution_count": 2,
   "metadata": {},
   "outputs": [],
   "source": [
    "import pandas as pd"
   ]
  },
  {
   "cell_type": "markdown",
   "metadata": {},
   "source": [
    "### read worksheet into pandas"
   ]
  },
  {
   "cell_type": "code",
   "execution_count": 4,
   "metadata": {},
   "outputs": [],
   "source": [
    "sheets_dict = pd.read_excel(data_source+'HRMI_Website_DataSet_2020.6.22.xlsx', sheet_name=None)"
   ]
  },
  {
   "cell_type": "code",
   "execution_count": 5,
   "metadata": {},
   "outputs": [
    {
     "data": {
      "text/plain": [
       "['ESR_LMY_IncomeAdjusted',\n",
       " 'ESR_HiY_IncomeAdjusted',\n",
       " 'ESR_LMY_GlobalBest',\n",
       " 'ESR_HiY_GlobalBest',\n",
       " 'ESR_Sex_Disaggregated',\n",
       " 'ESR_PeopleAtRisk',\n",
       " 'CPR_Data']"
      ]
     },
     "execution_count": 5,
     "metadata": {},
     "output_type": "execute_result"
    }
   ],
   "source": [
    "list(sheets_dict.keys())"
   ]
  },
  {
   "cell_type": "markdown",
   "metadata": {},
   "source": [
    "### Loop through the worksheets and create a DataFrame and store in dictionary sheetsDF"
   ]
  },
  {
   "cell_type": "code",
   "execution_count": 6,
   "metadata": {},
   "outputs": [],
   "source": [
    "sheetsDF = {}\n",
    "for i in list(sheets_dict.keys()):\n",
    "    data = i+'DF'\n",
    "    sheetsDF[data] = sheets_dict[i]"
   ]
  },
  {
   "cell_type": "markdown",
   "metadata": {},
   "source": [
    "### Merge the dictionaries and create one DataFrame"
   ]
  },
  {
   "cell_type": "code",
   "execution_count": 7,
   "metadata": {},
   "outputs": [],
   "source": [
    "data = {**sheetsDF['ESR_LMY_IncomeAdjustedDF'], **sheetsDF['ESR_HiY_IncomeAdjustedDF'],**sheetsDF['ESR_LMY_GlobalBestDF'], \\\n",
    "       **sheetsDF['ESR_HiY_GlobalBestDF'], **sheetsDF['ESR_Sex_DisaggregatedDF']}\n",
    "\n",
    "recs = pd.DataFrame(data)"
   ]
  },
  {
   "cell_type": "code",
   "execution_count": 8,
   "metadata": {},
   "outputs": [
    {
     "data": {
      "text/html": [
       "<div>\n",
       "<style scoped>\n",
       "    .dataframe tbody tr th:only-of-type {\n",
       "        vertical-align: middle;\n",
       "    }\n",
       "\n",
       "    .dataframe tbody tr th {\n",
       "        vertical-align: top;\n",
       "    }\n",
       "\n",
       "    .dataframe thead th {\n",
       "        text-align: right;\n",
       "    }\n",
       "</style>\n",
       "<table border=\"1\" class=\"dataframe\">\n",
       "  <thead>\n",
       "    <tr style=\"text-align: right;\">\n",
       "      <th></th>\n",
       "      <th>Country</th>\n",
       "      <th>Country_Code</th>\n",
       "      <th>High_Income_Country</th>\n",
       "      <th>Year</th>\n",
       "      <th>IncomeAdjusted_LMY_Quality_Of_Life_Score</th>\n",
       "      <th>IncomeAdjusted_LMY_Right_to_Education_Score</th>\n",
       "      <th>IncomeAdjusted_LMY_Right_to_Health_Score</th>\n",
       "      <th>IncomeAdjusted_LMY_Right_to_Housing_Score</th>\n",
       "      <th>IncomeAdjusted_LMY_Right_to_Food_Score</th>\n",
       "      <th>IncomeAdjusted_LMY_Right_to_Work_Score</th>\n",
       "      <th>...</th>\n",
       "      <th>Most_Recent_Value_For_Net_Secondary_School_Enrolment_Females</th>\n",
       "      <th>Income_Adjusted_Penalty_For_Net_Secondary_School_Enrolment_Females</th>\n",
       "      <th>Income_Adjusted_Score_For_Net_Secondary_School_Enrolment_Females</th>\n",
       "      <th>Global_Best_Penalty_For_Net_Secondary_School_Enrolment_Females</th>\n",
       "      <th>Global_Best_Score_For_Net_Secondary_School_Enrolment_Females</th>\n",
       "      <th>Most_Recent_Value_For_Net_Secondary_School_Enrolment_Males</th>\n",
       "      <th>Income_Adjusted_Penalty_For_Net_Secondary_School_Enrolment_Males</th>\n",
       "      <th>Income_Adjusted_Score_For_Net_Secondary_School_Enrolment_Males</th>\n",
       "      <th>Global_Best_Penalty_For_Net_Secondary_School_Enrolment_Males</th>\n",
       "      <th>Global_Best_Score_For_Net_Secondary_School_Enrolment_Males</th>\n",
       "    </tr>\n",
       "  </thead>\n",
       "  <tbody>\n",
       "    <tr>\n",
       "      <th>0</th>\n",
       "      <td>Aruba</td>\n",
       "      <td>ABW</td>\n",
       "      <td>1</td>\n",
       "      <td>2007</td>\n",
       "      <td>NaN</td>\n",
       "      <td>85.825384</td>\n",
       "      <td>NaN</td>\n",
       "      <td>90.774345</td>\n",
       "      <td>NaN</td>\n",
       "      <td>NaN</td>\n",
       "      <td>...</td>\n",
       "      <td>81.79688</td>\n",
       "      <td>2.857266</td>\n",
       "      <td>78.939614</td>\n",
       "      <td>2.857266</td>\n",
       "      <td>78.939614</td>\n",
       "      <td>79.25072</td>\n",
       "      <td>3.195111</td>\n",
       "      <td>76.055609</td>\n",
       "      <td>3.195111</td>\n",
       "      <td>76.055609</td>\n",
       "    </tr>\n",
       "    <tr>\n",
       "      <th>1</th>\n",
       "      <td>Aruba</td>\n",
       "      <td>ABW</td>\n",
       "      <td>1</td>\n",
       "      <td>2008</td>\n",
       "      <td>NaN</td>\n",
       "      <td>82.936936</td>\n",
       "      <td>NaN</td>\n",
       "      <td>91.017818</td>\n",
       "      <td>NaN</td>\n",
       "      <td>NaN</td>\n",
       "      <td>...</td>\n",
       "      <td>77.85939</td>\n",
       "      <td>3.348167</td>\n",
       "      <td>74.511223</td>\n",
       "      <td>3.348167</td>\n",
       "      <td>74.511223</td>\n",
       "      <td>71.15534</td>\n",
       "      <td>4.128252</td>\n",
       "      <td>67.027088</td>\n",
       "      <td>4.128252</td>\n",
       "      <td>67.027088</td>\n",
       "    </tr>\n",
       "    <tr>\n",
       "      <th>2</th>\n",
       "      <td>Aruba</td>\n",
       "      <td>ABW</td>\n",
       "      <td>1</td>\n",
       "      <td>2009</td>\n",
       "      <td>NaN</td>\n",
       "      <td>78.373131</td>\n",
       "      <td>NaN</td>\n",
       "      <td>91.705310</td>\n",
       "      <td>NaN</td>\n",
       "      <td>NaN</td>\n",
       "      <td>...</td>\n",
       "      <td>80.97252</td>\n",
       "      <td>1.884065</td>\n",
       "      <td>79.088455</td>\n",
       "      <td>1.884065</td>\n",
       "      <td>79.088455</td>\n",
       "      <td>74.57757</td>\n",
       "      <td>2.400676</td>\n",
       "      <td>72.176894</td>\n",
       "      <td>2.400676</td>\n",
       "      <td>72.176894</td>\n",
       "    </tr>\n",
       "  </tbody>\n",
       "</table>\n",
       "<p>3 rows × 302 columns</p>\n",
       "</div>"
      ],
      "text/plain": [
       "  Country Country_Code  High_Income_Country  Year  \\\n",
       "0   Aruba          ABW                    1  2007   \n",
       "1   Aruba          ABW                    1  2008   \n",
       "2   Aruba          ABW                    1  2009   \n",
       "\n",
       "   IncomeAdjusted_LMY_Quality_Of_Life_Score  \\\n",
       "0                                       NaN   \n",
       "1                                       NaN   \n",
       "2                                       NaN   \n",
       "\n",
       "   IncomeAdjusted_LMY_Right_to_Education_Score  \\\n",
       "0                                    85.825384   \n",
       "1                                    82.936936   \n",
       "2                                    78.373131   \n",
       "\n",
       "   IncomeAdjusted_LMY_Right_to_Health_Score  \\\n",
       "0                                       NaN   \n",
       "1                                       NaN   \n",
       "2                                       NaN   \n",
       "\n",
       "   IncomeAdjusted_LMY_Right_to_Housing_Score  \\\n",
       "0                                  90.774345   \n",
       "1                                  91.017818   \n",
       "2                                  91.705310   \n",
       "\n",
       "   IncomeAdjusted_LMY_Right_to_Food_Score  \\\n",
       "0                                     NaN   \n",
       "1                                     NaN   \n",
       "2                                     NaN   \n",
       "\n",
       "   IncomeAdjusted_LMY_Right_to_Work_Score  ...  \\\n",
       "0                                     NaN  ...   \n",
       "1                                     NaN  ...   \n",
       "2                                     NaN  ...   \n",
       "\n",
       "   Most_Recent_Value_For_Net_Secondary_School_Enrolment_Females  \\\n",
       "0                                           81.79688              \n",
       "1                                           77.85939              \n",
       "2                                           80.97252              \n",
       "\n",
       "   Income_Adjusted_Penalty_For_Net_Secondary_School_Enrolment_Females  \\\n",
       "0                                           2.857266                    \n",
       "1                                           3.348167                    \n",
       "2                                           1.884065                    \n",
       "\n",
       "   Income_Adjusted_Score_For_Net_Secondary_School_Enrolment_Females  \\\n",
       "0                                          78.939614                  \n",
       "1                                          74.511223                  \n",
       "2                                          79.088455                  \n",
       "\n",
       "   Global_Best_Penalty_For_Net_Secondary_School_Enrolment_Females  \\\n",
       "0                                           2.857266                \n",
       "1                                           3.348167                \n",
       "2                                           1.884065                \n",
       "\n",
       "   Global_Best_Score_For_Net_Secondary_School_Enrolment_Females  \\\n",
       "0                                          78.939614              \n",
       "1                                          74.511223              \n",
       "2                                          79.088455              \n",
       "\n",
       "   Most_Recent_Value_For_Net_Secondary_School_Enrolment_Males  \\\n",
       "0                                           79.25072            \n",
       "1                                           71.15534            \n",
       "2                                           74.57757            \n",
       "\n",
       "   Income_Adjusted_Penalty_For_Net_Secondary_School_Enrolment_Males  \\\n",
       "0                                           3.195111                  \n",
       "1                                           4.128252                  \n",
       "2                                           2.400676                  \n",
       "\n",
       "   Income_Adjusted_Score_For_Net_Secondary_School_Enrolment_Males  \\\n",
       "0                                          76.055609                \n",
       "1                                          67.027088                \n",
       "2                                          72.176894                \n",
       "\n",
       "   Global_Best_Penalty_For_Net_Secondary_School_Enrolment_Males  \\\n",
       "0                                           3.195111              \n",
       "1                                           4.128252              \n",
       "2                                           2.400676              \n",
       "\n",
       "   Global_Best_Score_For_Net_Secondary_School_Enrolment_Males  \n",
       "0                                          76.055609           \n",
       "1                                          67.027088           \n",
       "2                                          72.176894           \n",
       "\n",
       "[3 rows x 302 columns]"
      ]
     },
     "execution_count": 8,
     "metadata": {},
     "output_type": "execute_result"
    }
   ],
   "source": [
    "recs.head(3)"
   ]
  },
  {
   "cell_type": "markdown",
   "metadata": {},
   "source": [
    "### Rename columns "
   ]
  },
  {
   "cell_type": "code",
   "execution_count": 9,
   "metadata": {},
   "outputs": [],
   "source": [
    "rename = {\n",
    "    'IncomeAdjusted_LMY_Right_to_Education_Score.1':'IncomeAdjusted_LMY_Right_to_Education_Score_1',\n",
    "    'IncomeAdjusted_LMY_Right_to_Health_Score.1': 'IncomeAdjusted_LMY_Right_to_Health_Score_1',\n",
    "    'IncomeAdjusted_LMY_Right_to_Housing_Score.1': 'IncomeAdjusted_LMY_Right_to_Housing_Score_1',\n",
    "    'IncomeAdjusted_LMY_Right_to_Food_Score.1': 'IncomeAdjusted_LMY_Right_to_Food_Score_1',\n",
    "    'IncomeAdjusted_LMY_Right_to_Work_Score.1': 'IncomeAdjusted_LMY_Right_to_Work_Score_1',\n",
    "\n",
    "    'IncomeAdjusted_HiY_Right_to_Education_Score.1': 'IncomeAdjusted_HiY_Right_to_Education_Score_1',\n",
    "    'IncomeAdjusted_HiY_Right_to_Health_Score.1': 'IncomeAdjusted_HiY_Right_to_Health_Score_1',\n",
    "    'IncomeAdjusted_HiY_Right_to_Housing_Score.1': 'IncomeAdjusted_HiY_Right_to_Housing_Score_1',\n",
    "    'IncomeAdjusted_HiY_Right_to_Food_Score.1': 'IncomeAdjusted_HiY_Right_to_Food_Score_1',\n",
    "    'IncomeAdjusted_HiY_Right_to_Work_Score.1': 'IncomeAdjusted_HiY_Right_to_Work_Score_1',\n",
    "    \n",
    "    'GlobalBest_LMY_Right_to_Education_Score.1': 'GlobalBest_LMY_Right_to_Education_Score_1',\n",
    "    'GlobalBest_LMY_Right_to_Health_Score.1': 'GlobalBest_LMY_Right_to_Health_Score_1',\n",
    "    'GlobalBest_LMY_Right_to_Housing_Score.1': 'GlobalBest_LMY_Right_to_Housing_Score_1',\n",
    "    'GlobalBest_LMY_Right_to_Food_Score.1': 'GlobalBest_LMY_Right_to_Food_Score_1',\n",
    "    'GlobalBest_LMY_Right_to_Work_Score.1': 'GlobalBest_LMY_Right_to_Work_Score_1',\n",
    "    'Most_Recent_Observation_%_Population_Not_Absolutely_Poor_(>$3.20_2011PPP$)': 'Most_Recent_Observation_%_Population_Not_Absolutely_Poor_(>$3_20_2011PPP$)',\n",
    "    'Year_of_Most_Recent_Observation_on_%_Population_Not_Absolutely_Poor_(>$3.20_2011PPP$)': 'Year_of_Most_Recent_Observation_on_%_Population_Not_Absolutely_Poor_(>$3_20_2011PPP$)',\n",
    "    'GlobalBest_HiY_Right_to_Education_Score.1': 'GlobalBest_HiY_Right_to_Education_Score_1',\n",
    "    'GlobalBest_HiY_Right_to_Health_Score.1': 'GlobalBest_HiY_Right_to_Health_Score_1',\n",
    "    'GlobalBest_HiY_Right_to_Housing_Score.1': 'GlobalBest_HiY_Right_to_Housing_Score_1',\n",
    "    'GlobalBest_HiY_Right_to_Food_Score.1': 'GlobalBest_HiY_Right_to_Food_Score_1',\n",
    "    'GlobalBest_HiY_Right_to_Work_Score.1': 'GlobalBest_HiY_Right_to_Work_Score_1'\n",
    "}\n",
    "\n",
    "recs.rename(columns=rename, inplace=True)"
   ]
  },
  {
   "cell_type": "markdown",
   "metadata": {},
   "source": [
    "### Connect to pyMongo and insert data into database"
   ]
  },
  {
   "cell_type": "code",
   "execution_count": 10,
   "metadata": {},
   "outputs": [],
   "source": [
    "import pymongo"
   ]
  },
  {
   "cell_type": "code",
   "execution_count": 11,
   "metadata": {},
   "outputs": [],
   "source": [
    "conn = 'mongodb://localhost:27017'"
   ]
  },
  {
   "cell_type": "code",
   "execution_count": 12,
   "metadata": {},
   "outputs": [],
   "source": [
    "client = pymongo.MongoClient(conn)"
   ]
  },
  {
   "cell_type": "code",
   "execution_count": 13,
   "metadata": {},
   "outputs": [
    {
     "name": "stdout",
     "output_type": "stream",
     "text": [
      "Dropped collection\n"
     ]
    }
   ],
   "source": [
    "db = client['country_db']\n",
    "\n",
    "col = db['countries']\n",
    "\n",
    "if col:\n",
    "    col.drop()\n",
    "    print('Dropped collection')\n",
    "else:\n",
    "    print('No Collection, Creating')\n"
   ]
  },
  {
   "cell_type": "code",
   "execution_count": 14,
   "metadata": {},
   "outputs": [
    {
     "name": "stdout",
     "output_type": "stream",
     "text": [
      "Data Inserted\n"
     ]
    }
   ],
   "source": [
    "db.countries.insert_many(recs.to_dict('records'))\n",
    "print('Data Inserted')"
   ]
  },
  {
   "cell_type": "code",
   "execution_count": null,
   "metadata": {},
   "outputs": [],
   "source": []
  },
  {
   "cell_type": "code",
   "execution_count": null,
   "metadata": {},
   "outputs": [],
   "source": []
  }
 ],
 "metadata": {
  "kernelspec": {
   "display_name": "Python 3",
   "language": "python",
   "name": "python3"
  },
  "language_info": {
   "codemirror_mode": {
    "name": "ipython",
    "version": 3
   },
   "file_extension": ".py",
   "mimetype": "text/x-python",
   "name": "python",
   "nbconvert_exporter": "python",
   "pygments_lexer": "ipython3",
   "version": "3.7.9"
  }
 },
 "nbformat": 4,
 "nbformat_minor": 4
}
